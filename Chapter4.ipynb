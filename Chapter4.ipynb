{
 "cells": [
  {
   "cell_type": "code",
   "execution_count": 1,
   "metadata": {},
   "outputs": [],
   "source": [
    "import numpy as np\n",
    "import matplotlib.pyplot as plt\n",
    "import random\n",
    "import seaborn as sns\n",
    "\n",
    "sns.set_style('ticks')\n",
    "\n",
    "from tqdm import tqdm\n",
    "from itertools import (count, product)\n",
    "from scipy.stats import poisson\n",
    "\n",
    "pool1_rent_rv = poisson(3)\n",
    "pool1_return_rv = poisson(3)\n",
    "pool2_rent_rv = poisson(4)\n",
    "pool2_return_rv = poisson(2)\n",
    "\n",
    "GAMMA = 0.9\n"
   ]
  },
  {
   "cell_type": "code",
   "execution_count": 2,
   "metadata": {},
   "outputs": [],
   "source": [
    "def calc_reward(action, num_cars_rented):\n",
    "    # action indexed 0 - 10 corresponding to -5 to 5 cars moved\n",
    "    # where + indicates pool 1 to pool 2\n",
    "    # 5 encodes no cards moved\n",
    "    reward_from_action = -1 * np.abs(action - 5) * 2\n",
    "    reward_from_cars = num_cars_rented * 10\n",
    "    return reward_from_cars + reward_from_action"
   ]
  },
  {
   "cell_type": "code",
   "execution_count": 16,
   "metadata": {},
   "outputs": [],
   "source": [
    "def calc_new_vals(cur_state_idx, values, action):\n",
    "    # cur_state_idx -> num cars in each lot\n",
    "    num_cars_pool_1 = cur_state_idx // 21\n",
    "    num_cars_pool_2 = cur_state_idx % 21\n",
    "\n",
    "    # incorporate action\n",
    "    cars_moved = action - 5\n",
    "\n",
    "    if cars_moved > 0 and cars_moved > num_cars_pool_1:\n",
    "        cars_moved = num_cars_pool_1\n",
    "\n",
    "    if cars_moved < 0 and np.abs(cars_moved) > num_cars_pool_2:\n",
    "        cars_moved = -1 * num_cars_pool_2\n",
    "    \n",
    "    num_cars_pool_1 = np.clip(num_cars_pool_1 - cars_moved, 0, 20)\n",
    "    num_cars_pool_2 = np.clip(num_cars_pool_2 + cars_moved, 0, 20)\n",
    "\n",
    "\n",
    "    # sum over all values of next states and rewards\n",
    "    # loop over possible next states\n",
    "    val = 0\n",
    "\n",
    "    for i in range(len(values)):\n",
    "        pool_1 = i // 21\n",
    "        pool_2 = i % 21\n",
    "\n",
    "        diff_pool_1 = pool_1 - num_cars_pool_1\n",
    "        diff_pool_2 = pool_2 - num_cars_pool_2\n",
    "\n",
    "        min_car_rented_1 = max(0, -diff_pool_1)\n",
    "        min_car_rented_2 = max(0, -diff_pool_2)\n",
    "\n",
    "        for cars_rented_1, cars_rented_2 in product(range(int(min_car_rented_1), int(num_cars_pool_1) + 1), range(int(min_car_rented_2), int(num_cars_pool_2) + 1)):\n",
    "            prob_cars_rented_1 = pool1_rent_rv.pmf(cars_rented_1)\n",
    "            prob_cars_rented_2 = pool2_rent_rv.pmf(cars_rented_2)\n",
    "\n",
    "            prob_cars_returned_1 = pool1_return_rv.pmf(diff_pool_1 + cars_rented_1)\n",
    "            prob_cars_returned_2 = pool1_return_rv.pmf(diff_pool_1 + cars_rented_1)\n",
    "\n",
    "            # reward\n",
    "            reward = calc_reward(action, cars_rented_1 + cars_rented_2)\n",
    "\n",
    "            val += (values[i] * GAMMA + reward) * prob_cars_rented_1 * prob_cars_rented_2 * prob_cars_returned_1 * prob_cars_returned_2\n",
    "    \n",
    "    return val\n",
    "\n",
    "\n"
   ]
  },
  {
   "cell_type": "code",
   "execution_count": 31,
   "metadata": {},
   "outputs": [],
   "source": [
    "# policy evaluation\n",
    "\n",
    "def policy_evaluation(policy, initial_values, threshold):\n",
    "    # policy: numpy array num_states: vals as index of action, varies from 0 - 10\n",
    "    # initial_values: numpy array num_states: vals as float indicating value\n",
    "    # threshold: some small float\n",
    "    # returns updated values\n",
    "    delta = None\n",
    "    values = initial_values\n",
    "    while delta is None or delta > threshold:\n",
    "        delta = 0.0\n",
    "        # for each state\n",
    "        for i, val in tqdm(enumerate(values)):\n",
    "            action = policy[i]\n",
    "            new_val = calc_new_vals(i, values, action)\n",
    "            delta = max(np.abs(new_val - val), delta)\n",
    "    return values\n"
   ]
  },
  {
   "cell_type": "code",
   "execution_count": 11,
   "metadata": {},
   "outputs": [],
   "source": [
    "def policy_improvement(values):\n",
    "    new_policy = np.zeros(len(values))\n",
    "    val_maxes = np.zeros(len(values))\n",
    "    for state in range(len(values)):\n",
    "        val_max = None\n",
    "        max_action = -1\n",
    "        for action in range(11):\n",
    "            val = calc_new_vals(state, values, action)\n",
    "            if val_max is None or val > val_max:\n",
    "                val_max = val\n",
    "                max_action = action\n",
    "        new_policy[state] = max_action\n",
    "        val_maxes[state] = val_max\n",
    "    return new_policy, val_maxes\n",
    "            \n"
   ]
  },
  {
   "cell_type": "code",
   "execution_count": 12,
   "metadata": {},
   "outputs": [],
   "source": [
    "def values_different(values, new_values, thres):\n",
    "    return np.max(np.abs(new_values - values)) > thres"
   ]
  },
  {
   "cell_type": "code",
   "execution_count": null,
   "metadata": {},
   "outputs": [],
   "source": [
    "# initialize\n",
    "values = np.zeros(441)\n",
    "policy = np.ones(441) * 5\n",
    "\n",
    "thres = 0.1\n",
    "\n",
    "new_policy, val_maxes = policy_improvement(values)\n",
    "\n",
    "iteration = 0\n",
    "while values_different(values, val_maxes, thres):\n",
    "    iteration += 1\n",
    "    print(f\"evaluating policy {iteration}\")\n",
    "    policy = new_policy\n",
    "    values = policy_evaluation(policy, values, thres)\n",
    "    new_policy, val_maxes = policy_improvement(values)\n",
    "    \n"
   ]
  },
  {
   "cell_type": "code",
   "execution_count": null,
   "metadata": {},
   "outputs": [
    {
     "name": "stderr",
     "output_type": "stream",
     "text": [
      "308it [2:14:33, 48.46s/it] "
     ]
    }
   ],
   "source": [
    "values = np.zeros(441)\n",
    "policy = np.ones(441) * 5\n",
    "\n",
    "thres = 0.1\n",
    "\n",
    "values = policy_evaluation(policy, values, thres)\n"
   ]
  },
  {
   "cell_type": "code",
   "execution_count": 27,
   "metadata": {},
   "outputs": [
    {
     "name": "stdout",
     "output_type": "stream",
     "text": [
      "> \u001b[0;32m/usr/local/lib/python3.10/dist-packages/numpy/core/_methods.py\u001b[0m(40)\u001b[0;36m_amax\u001b[0;34m()\u001b[0m\n",
      "\u001b[0;32m     38 \u001b[0;31mdef _amax(a, axis=None, out=None, keepdims=False,\n",
      "\u001b[0m\u001b[0;32m     39 \u001b[0;31m          initial=_NoValue, where=True):\n",
      "\u001b[0m\u001b[0;32m---> 40 \u001b[0;31m    \u001b[0;32mreturn\u001b[0m \u001b[0mumr_maximum\u001b[0m\u001b[0;34m(\u001b[0m\u001b[0ma\u001b[0m\u001b[0;34m,\u001b[0m \u001b[0maxis\u001b[0m\u001b[0;34m,\u001b[0m \u001b[0;32mNone\u001b[0m\u001b[0;34m,\u001b[0m \u001b[0mout\u001b[0m\u001b[0;34m,\u001b[0m \u001b[0mkeepdims\u001b[0m\u001b[0;34m,\u001b[0m \u001b[0minitial\u001b[0m\u001b[0;34m,\u001b[0m \u001b[0mwhere\u001b[0m\u001b[0;34m)\u001b[0m\u001b[0;34m\u001b[0m\u001b[0;34m\u001b[0m\u001b[0m\n",
      "\u001b[0m\u001b[0;32m     41 \u001b[0;31m\u001b[0;34m\u001b[0m\u001b[0m\n",
      "\u001b[0m\u001b[0;32m     42 \u001b[0;31mdef _amin(a, axis=None, out=None, keepdims=False,\n",
      "\u001b[0m\n"
     ]
    },
    {
     "name": "stdin",
     "output_type": "stream",
     "text": [
      "ipdb>  u\n"
     ]
    },
    {
     "name": "stdout",
     "output_type": "stream",
     "text": [
      "> \u001b[0;32m/usr/local/lib/python3.10/dist-packages/numpy/core/fromnumeric.py\u001b[0m(84)\u001b[0;36m_wrapreduction\u001b[0;34m()\u001b[0m\n",
      "\u001b[0;32m     82 \u001b[0;31m                \u001b[0;32mreturn\u001b[0m \u001b[0mreduction\u001b[0m\u001b[0;34m(\u001b[0m\u001b[0maxis\u001b[0m\u001b[0;34m=\u001b[0m\u001b[0maxis\u001b[0m\u001b[0;34m,\u001b[0m \u001b[0mdtype\u001b[0m\u001b[0;34m=\u001b[0m\u001b[0mdtype\u001b[0m\u001b[0;34m,\u001b[0m \u001b[0mout\u001b[0m\u001b[0;34m=\u001b[0m\u001b[0mout\u001b[0m\u001b[0;34m,\u001b[0m \u001b[0;34m**\u001b[0m\u001b[0mpasskwargs\u001b[0m\u001b[0;34m)\u001b[0m\u001b[0;34m\u001b[0m\u001b[0;34m\u001b[0m\u001b[0m\n",
      "\u001b[0m\u001b[0;32m     83 \u001b[0;31m            \u001b[0;32melse\u001b[0m\u001b[0;34m:\u001b[0m\u001b[0;34m\u001b[0m\u001b[0;34m\u001b[0m\u001b[0m\n",
      "\u001b[0m\u001b[0;32m---> 84 \u001b[0;31m                \u001b[0;32mreturn\u001b[0m \u001b[0mreduction\u001b[0m\u001b[0;34m(\u001b[0m\u001b[0maxis\u001b[0m\u001b[0;34m=\u001b[0m\u001b[0maxis\u001b[0m\u001b[0;34m,\u001b[0m \u001b[0mout\u001b[0m\u001b[0;34m=\u001b[0m\u001b[0mout\u001b[0m\u001b[0;34m,\u001b[0m \u001b[0;34m**\u001b[0m\u001b[0mpasskwargs\u001b[0m\u001b[0;34m)\u001b[0m\u001b[0;34m\u001b[0m\u001b[0;34m\u001b[0m\u001b[0m\n",
      "\u001b[0m\u001b[0;32m     85 \u001b[0;31m\u001b[0;34m\u001b[0m\u001b[0m\n",
      "\u001b[0m\u001b[0;32m     86 \u001b[0;31m    \u001b[0;32mreturn\u001b[0m \u001b[0mufunc\u001b[0m\u001b[0;34m.\u001b[0m\u001b[0mreduce\u001b[0m\u001b[0;34m(\u001b[0m\u001b[0mobj\u001b[0m\u001b[0;34m,\u001b[0m \u001b[0maxis\u001b[0m\u001b[0;34m,\u001b[0m \u001b[0mdtype\u001b[0m\u001b[0;34m,\u001b[0m \u001b[0mout\u001b[0m\u001b[0;34m,\u001b[0m \u001b[0;34m**\u001b[0m\u001b[0mpasskwargs\u001b[0m\u001b[0;34m)\u001b[0m\u001b[0;34m\u001b[0m\u001b[0;34m\u001b[0m\u001b[0m\n",
      "\u001b[0m\n"
     ]
    },
    {
     "name": "stdin",
     "output_type": "stream",
     "text": [
      "ipdb>  u\n"
     ]
    },
    {
     "name": "stdout",
     "output_type": "stream",
     "text": [
      "> \u001b[0;32m/usr/local/lib/python3.10/dist-packages/numpy/core/fromnumeric.py\u001b[0m(2791)\u001b[0;36mamax\u001b[0;34m()\u001b[0m\n",
      "\u001b[0;32m   2789 \u001b[0;31m    \u001b[0;36m5\u001b[0m\u001b[0;34m\u001b[0m\u001b[0;34m\u001b[0m\u001b[0m\n",
      "\u001b[0m\u001b[0;32m   2790 \u001b[0;31m    \"\"\"\n",
      "\u001b[0m\u001b[0;32m-> 2791 \u001b[0;31m    return _wrapreduction(a, np.maximum, 'max', axis, None, out,\n",
      "\u001b[0m\u001b[0;32m   2792 \u001b[0;31m                          keepdims=keepdims, initial=initial, where=where)\n",
      "\u001b[0m\u001b[0;32m   2793 \u001b[0;31m\u001b[0;34m\u001b[0m\u001b[0m\n",
      "\u001b[0m\n"
     ]
    },
    {
     "name": "stdin",
     "output_type": "stream",
     "text": [
      "ipdb>  u\n"
     ]
    },
    {
     "name": "stdout",
     "output_type": "stream",
     "text": [
      "> \u001b[0;32m<__array_function__ internals>\u001b[0m(180)\u001b[0;36mamax\u001b[0;34m()\u001b[0m\n",
      "\n"
     ]
    },
    {
     "name": "stdin",
     "output_type": "stream",
     "text": [
      "ipdb>  u\n"
     ]
    },
    {
     "name": "stdout",
     "output_type": "stream",
     "text": [
      "> \u001b[0;32m/tmp/ipykernel_71168/4127160737.py\u001b[0m(17)\u001b[0;36mpolicy_evaluation\u001b[0;34m()\u001b[0m\n",
      "\u001b[0;32m     14 \u001b[0;31m            \u001b[0maction\u001b[0m \u001b[0;34m=\u001b[0m \u001b[0mpolicy\u001b[0m\u001b[0;34m[\u001b[0m\u001b[0mi\u001b[0m\u001b[0;34m]\u001b[0m\u001b[0;34m\u001b[0m\u001b[0;34m\u001b[0m\u001b[0m\n",
      "\u001b[0m\u001b[0;32m     15 \u001b[0;31m            \u001b[0mnew_val\u001b[0m \u001b[0;34m=\u001b[0m \u001b[0mcalc_new_vals\u001b[0m\u001b[0;34m(\u001b[0m\u001b[0mi\u001b[0m\u001b[0;34m,\u001b[0m \u001b[0mvalues\u001b[0m\u001b[0;34m,\u001b[0m \u001b[0maction\u001b[0m\u001b[0;34m)\u001b[0m\u001b[0;34m\u001b[0m\u001b[0;34m\u001b[0m\u001b[0m\n",
      "\u001b[0m\u001b[0;32m     16 \u001b[0;31m            \u001b[0mprint\u001b[0m\u001b[0;34m(\u001b[0m\u001b[0mnew_val\u001b[0m\u001b[0;34m)\u001b[0m\u001b[0;34m\u001b[0m\u001b[0;34m\u001b[0m\u001b[0m\n",
      "\u001b[0m\u001b[0;32m---> 17 \u001b[0;31m            \u001b[0mdelta\u001b[0m \u001b[0;34m=\u001b[0m \u001b[0mnp\u001b[0m\u001b[0;34m.\u001b[0m\u001b[0mmax\u001b[0m\u001b[0;34m(\u001b[0m\u001b[0mnp\u001b[0m\u001b[0;34m.\u001b[0m\u001b[0mabs\u001b[0m\u001b[0;34m(\u001b[0m\u001b[0mnew_val\u001b[0m \u001b[0;34m-\u001b[0m \u001b[0mval\u001b[0m\u001b[0;34m)\u001b[0m\u001b[0;34m,\u001b[0m \u001b[0mdelta\u001b[0m\u001b[0;34m)\u001b[0m\u001b[0;34m\u001b[0m\u001b[0;34m\u001b[0m\u001b[0m\n",
      "\u001b[0m\u001b[0;32m     18 \u001b[0;31m    \u001b[0;32mreturn\u001b[0m \u001b[0mvalues\u001b[0m\u001b[0;34m\u001b[0m\u001b[0;34m\u001b[0m\u001b[0m\n",
      "\u001b[0m\n"
     ]
    },
    {
     "name": "stdin",
     "output_type": "stream",
     "text": [
      "ipdb>  new_val\n"
     ]
    },
    {
     "name": "stdout",
     "output_type": "stream",
     "text": [
      "0.0\n"
     ]
    },
    {
     "name": "stdin",
     "output_type": "stream",
     "text": [
      "ipdb>  val\n"
     ]
    },
    {
     "name": "stdout",
     "output_type": "stream",
     "text": [
      "0.0\n"
     ]
    },
    {
     "name": "stdin",
     "output_type": "stream",
     "text": [
      "ipdb>  np.abs(new_val - val)\n"
     ]
    },
    {
     "name": "stdout",
     "output_type": "stream",
     "text": [
      "0.0\n"
     ]
    },
    {
     "name": "stdin",
     "output_type": "stream",
     "text": [
      "ipdb>  detla\n"
     ]
    },
    {
     "name": "stdout",
     "output_type": "stream",
     "text": [
      "*** NameError: name 'detla' is not defined\n"
     ]
    },
    {
     "name": "stdin",
     "output_type": "stream",
     "text": [
      "ipdb>  delta\n"
     ]
    },
    {
     "name": "stdout",
     "output_type": "stream",
     "text": [
      "0.0\n"
     ]
    },
    {
     "name": "stdin",
     "output_type": "stream",
     "text": [
      "ipdb>  delta = np.max(np.abs(new_val - val), delta)\n"
     ]
    },
    {
     "name": "stdout",
     "output_type": "stream",
     "text": [
      "*** TypeError: 'float' object cannot be interpreted as an integer\n"
     ]
    },
    {
     "name": "stdin",
     "output_type": "stream",
     "text": [
      "ipdb>  np.max(np.abs(new_val - val), delta)\n"
     ]
    },
    {
     "name": "stdout",
     "output_type": "stream",
     "text": [
      "*** TypeError: 'float' object cannot be interpreted as an integer\n"
     ]
    },
    {
     "name": "stdin",
     "output_type": "stream",
     "text": [
      "ipdb>  np.max(np.abs(new_val - val), np.array(delta))\n"
     ]
    },
    {
     "name": "stdout",
     "output_type": "stream",
     "text": [
      "*** TypeError: only integer scalar arrays can be converted to a scalar index\n"
     ]
    },
    {
     "name": "stdin",
     "output_type": "stream",
     "text": [
      "ipdb>  q\n"
     ]
    }
   ],
   "source": [
    "\n",
    "\n",
    "\n",
    "%debug"
   ]
  },
  {
   "cell_type": "code",
   "execution_count": null,
   "metadata": {},
   "outputs": [],
   "source": []
  }
 ],
 "metadata": {
  "kernelspec": {
   "display_name": "Python 3 (ipykernel)",
   "language": "python",
   "name": "python3"
  },
  "language_info": {
   "codemirror_mode": {
    "name": "ipython",
    "version": 3
   },
   "file_extension": ".py",
   "mimetype": "text/x-python",
   "name": "python",
   "nbconvert_exporter": "python",
   "pygments_lexer": "ipython3",
   "version": "3.10.4"
  },
  "vscode": {
   "interpreter": {
    "hash": "31f2aee4e71d21fbe5cf8b01ff0e069b9275f58929596ceb00d14d90e3e16cd6"
   }
  }
 },
 "nbformat": 4,
 "nbformat_minor": 4
}
